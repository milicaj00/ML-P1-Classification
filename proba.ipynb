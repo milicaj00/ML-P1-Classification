{
 "cells": [
  {
   "cell_type": "code",
   "execution_count": 41,
   "metadata": {},
   "outputs": [
    {
     "data": {
      "image/png": "[encoded data removed]",
      "text/plain": [
       "<Figure size 640x480 with 1 Axes>"
      ]
     },
     "metadata": {},
     "output_type": "display_data"
    },
    {
     "name": "stdout",
     "output_type": "stream",
     "text": [
      "Number Of Rows In The Original DataFrame: 470\n",
      "Number Of Rows After Deduping: 470\n"
     ]
    },
    {
     "data": {
      "text/plain": [
       "'\\nDiagnosis - specific combination of ICD-10 codes for primary and secondary as well multiple tumours if any\\t\\t\\nPRE4\\tFeature\\tContinuous\\t\\tForced vital capacity - FVC (numeric)\\t\\nPRE5\\tFeature\\tContinuous\\t\\tVolume that has been exhaled at the end of the first second of forced expiration - FEV1 (numeric)\\t\\t\\nPRE6\\tFeature\\tCategorical\\t\\tPerformance status - Zubrod scale (PRZ2,PRZ1,PRZ0)\\t\\t\\nPRE7\\tFeature\\tBinary\\t\\tPain before surgery (T,F)\\t\\nPRE8\\tFeature\\tBinary\\t\\tHaemoptysis before surgery (T,F)\\t\\t\\nPRE9\\tFeature\\tBinary\\t\\tDyspnoea before surgery (T,F)\\t\\t\\nPRE10\\tFeature\\tBinary\\t\\tCough before surgery (T,F)\\t\\nPRE11\\tFeature\\tBinary\\t\\tWeakness before surgery (T,F)\\t\\nPRE14\\tFeature\\tCategorical\\t\\tT in clinical TNM - size of the original tumour, from OC11 (smallest) to OC14 (largest) (OC11,OC14,OC12,OC13)\\t\\nPRE17\\tFeature\\tBinary\\t\\tType 2 DM - diabetes mellitus (T,F)\\t\\tno\\nPRE19\\tFeature\\tBinary\\t\\tMI up to 6 months (T,F)\\t\\tno\\nPRE25\\tFeature\\tBinary\\t\\tPAD - peripheral arterial diseases (T,F)\\t\\tno\\nPRE30\\tFeature\\tBinary\\t\\tSmoking (T,F)\\t\\tno\\nPRE32\\tFeature\\tBinary\\t\\tAsthma (T,F)\\t\\tno\\nAGE\\tFeature\\tInteger\\tAge\\tAge at surgery (numeric)\\t\\tno\\nRisk1Yr\\tTarget\\tBinary\\t\\t1 year survival period - (T)rue value if died (T,F)\\t\\tno\\n'"
      ]
     },
     "execution_count": 41,
     "metadata": {},
     "output_type": "execute_result"
    }
   ],
   "source": [
    "from ucimlrepo import fetch_ucirepo \n",
    "from matplotlib import pyplot\n",
    "# fetch dataset \n",
    "thoracic_surgery_data = fetch_ucirepo(id=277) \n",
    "  \n",
    "# data (as pandas dataframes) \n",
    "dataframe = thoracic_surgery_data.data.features \n",
    "\n",
    "Risk1Yr = thoracic_surgery_data.data.targets \n",
    "\n",
    "Risk1Yr = Risk1Yr['Risk1Yr']\n",
    "pyplot.ylabel('Risk1Yr'); pyplot.hist(Risk1Yr) ; pyplot.show()\n",
    "\n",
    "# metadata \n",
    "#print(thoracic_surgery_data.metadata) \n",
    "\n",
    "dataframe.iloc[0]\n",
    "\n",
    "print(\"Number Of Rows In The Original DataFrame:\", len(dataframe))\n",
    "print(\"Number Of Rows After Deduping:\", len(dataframe.drop_duplicates()))\n",
    "\n",
    "'''\n",
    "Diagnosis - specific combination of ICD-10 codes for primary and secondary as well multiple tumours if any\t\t\n",
    "PRE4\tFeature\tContinuous\t\tForced vital capacity - FVC (numeric)\t\n",
    "PRE5\tFeature\tContinuous\t\tVolume that has been exhaled at the end of the first second of forced expiration - FEV1 (numeric)\t\t\n",
    "PRE6\tFeature\tCategorical\t\tPerformance status - Zubrod scale (PRZ2,PRZ1,PRZ0)\t\t\n",
    "PRE7\tFeature\tBinary\t\tPain before surgery (T,F)\t\n",
    "PRE8\tFeature\tBinary\t\tHaemoptysis before surgery (T,F)\t\t\n",
    "PRE9\tFeature\tBinary\t\tDyspnoea before surgery (T,F)\t\t\n",
    "PRE10\tFeature\tBinary\t\tCough before surgery (T,F)\t\n",
    "PRE11\tFeature\tBinary\t\tWeakness before surgery (T,F)\t\n",
    "PRE14\tFeature\tCategorical\t\tT in clinical TNM - size of the original tumour, from OC11 (smallest) to OC14 (largest) (OC11,OC14,OC12,OC13)\t\n",
    "PRE17\tFeature\tBinary\t\tType 2 DM - diabetes mellitus (T,F)\t\tno\n",
    "PRE19\tFeature\tBinary\t\tMI up to 6 months (T,F)\t\tno\n",
    "PRE25\tFeature\tBinary\t\tPAD - peripheral arterial diseases (T,F)\t\tno\n",
    "PRE30\tFeature\tBinary\t\tSmoking (T,F)\t\tno\n",
    "PRE32\tFeature\tBinary\t\tAsthma (T,F)\t\tno\n",
    "AGE\tFeature\tInteger\tAge\tAge at surgery (numeric)\t\tno\n",
    "Risk1Yr\tTarget\tBinary\t\t1 year survival period - (T)rue value if died (T,F)\t\tno\n",
    "'''"
   ]
  },
  {
   "cell_type": "code",
   "execution_count": 42,
   "metadata": {},
   "outputs": [
    {
     "ename": "TypeError",
     "evalue": "scatter() missing 1 required positional argument: 'y'",
     "output_type": "error",
     "traceback": [
      "\u001b[1;31m---------------------------------------------------------------------------\u001b[0m",
      "\u001b[1;31mTypeError\u001b[0m                                 Traceback (most recent call last)",
      "Cell \u001b[1;32mIn[42], line 5\u001b[0m\n\u001b[0;32m      3\u001b[0m age \u001b[38;5;241m=\u001b[39m dataframe[\u001b[38;5;124m'\u001b[39m\u001b[38;5;124mAGE\u001b[39m\u001b[38;5;124m'\u001b[39m]\n\u001b[0;32m      4\u001b[0m pyplot\u001b[38;5;241m.\u001b[39mfigure()\n\u001b[1;32m----> 5\u001b[0m pyplot\u001b[38;5;241m.\u001b[39msubplot(\u001b[38;5;241m211\u001b[39m);pyplot\u001b[38;5;241m.\u001b[39mylabel(\u001b[38;5;124m'\u001b[39m\u001b[38;5;124mage\u001b[39m\u001b[38;5;124m'\u001b[39m); pyplot\u001b[38;5;241m.\u001b[39mscatter(age) \n\u001b[0;32m      6\u001b[0m pyplot\u001b[38;5;241m.\u001b[39msubplot(\u001b[38;5;241m212\u001b[39m); pyplot\u001b[38;5;241m.\u001b[39mxlabel(\u001b[38;5;124m'\u001b[39m\u001b[38;5;124mage\u001b[39m\u001b[38;5;124m'\u001b[39m); pyplot\u001b[38;5;241m.\u001b[39mhist(age) ; pyplot\u001b[38;5;241m.\u001b[39mshow()\n\u001b[0;32m      9\u001b[0m dgn \u001b[38;5;241m=\u001b[39m dataframe[\u001b[38;5;124m'\u001b[39m\u001b[38;5;124mDGN\u001b[39m\u001b[38;5;124m'\u001b[39m]\n",
      "\u001b[1;31mTypeError\u001b[0m: scatter() missing 1 required positional argument: 'y'"
     ]
    },
    {
     "data": {
      "image/png": "[encoded data removed]",
      "text/plain": [
       "<Figure size 640x480 with 1 Axes>"
      ]
     },
     "metadata": {},
     "output_type": "display_data"
    }
   ],
   "source": [
    "from matplotlib import pyplot\n",
    "\n",
    "age = dataframe['AGE']\n",
    "pyplot.figure()\n",
    "pyplot.subplot(211);pyplot.ylabel('age'); pyplot.plot(age, 'ro') \n",
    "pyplot.subplot(212); pyplot.xlabel('age'); pyplot.hist(age) ; pyplot.show()\n",
    "\n",
    "\n",
    "dgn = dataframe['DGN']\n",
    "pre6 = dataframe['PRE6']\n",
    "pre14 = dataframe['PRE14']\n",
    "\n",
    "pyplot.figure()\n",
    "pyplot.subplot(311);pyplot.ylabel('dgn'); pyplot.hist(dgn)\n",
    "pyplot.subplot(312); pyplot.xlabel('pre6'); pyplot.hist(pre6) \n",
    "pyplot.subplot(313);pyplot.ylabel('pre14'); pyplot.hist(pre14) \n",
    "pyplot.show()\n",
    "\n",
    "pre4 = dataframe['PRE4']\n",
    "pre5 = dataframe['PRE5']\n",
    "pre7 = dataframe['PRE7']\n",
    "pre8 = dataframe['PRE8']\n",
    "\n",
    "pyplot.figure()\n",
    "pyplot.subplot(221);pyplot.ylabel('pre4'); pyplot.hist(pre4)\n",
    "pyplot.subplot(222); pyplot.xlabel('pre5'); pyplot.hist(pre5) \n",
    "pyplot.subplot(223);pyplot.ylabel('pre7'); pyplot.hist(pre7)\n",
    "pyplot.subplot(224); pyplot.xlabel('pre8'); pyplot.hist(pre8) \n",
    "pyplot.show()\n",
    "\n",
    "pre9 = dataframe['PRE9']\n",
    "pre10 = dataframe['PRE10']\n",
    "pre11 = dataframe['PRE11']\n",
    "pre17 = dataframe['PRE17']\n",
    "pre19 = dataframe['PRE19']\n",
    "pre25 = dataframe['PRE25']\n",
    "pre30 = dataframe['PRE30']\n",
    "pre32 = dataframe['PRE32']\n",
    "\n",
    "pyplot.figure()\n",
    "pyplot.subplot(331);pyplot.ylabel('pre9'); pyplot.hist(pre9)\n",
    "pyplot.subplot(332);pyplot.ylabel('pre10'); pyplot.hist(pre10)\n",
    "pyplot.subplot(333);pyplot.ylabel('pre11'); pyplot.hist(pre11)\n",
    "pyplot.subplot(334);pyplot.ylabel('pre17'); pyplot.hist(pre17)\n",
    "pyplot.subplot(335);pyplot.ylabel('pre19'); pyplot.hist(pre19)\n",
    "pyplot.subplot(336);pyplot.ylabel('pre25'); pyplot.hist(pre25)\n",
    "pyplot.subplot(337);pyplot.ylabel('pre30'); pyplot.hist(pre30)\n",
    "pyplot.subplot(338);pyplot.ylabel('pre32'); pyplot.hist(pre32)\n",
    "pyplot.show()\n"
   ]
  }
 ],
 "metadata": {
  "kernelspec": {
   "display_name": "Python 3",
   "language": "python",
   "name": "python3"
  },
  "language_info": {
   "codemirror_mode": {
    "name": "ipython",
    "version": 3
   },
   "file_extension": ".py",
   "mimetype": "text/x-python",
   "name": "python",
   "nbconvert_exporter": "python",
   "pygments_lexer": "ipython3",
   "version": "3.11.2"
  }
 },
 "nbformat": 4,
 "nbformat_minor": 2
}
